{
 "cells": [
  {
   "cell_type": "markdown",
   "id": "8eabcbdc",
   "metadata": {},
   "source": [
    "## This following link helped me create this notebook\n",
    "https://github.com/psorianom/DPR/blob/master/dpr2hf/squad2dpr.py"
   ]
  },
  {
   "cell_type": "markdown",
   "id": "9a746949",
   "metadata": {},
   "source": [
    "### Note: this notebook was run locally"
   ]
  },
  {
   "cell_type": "code",
   "execution_count": 1,
   "id": "79b1638c",
   "metadata": {},
   "outputs": [],
   "source": [
    "import json\n",
    "\n",
    "with open('./data/sharc data/sharc1-official/json/sharc_train.json') as json_file:\n",
    "    data = json.load(json_file)"
   ]
  },
  {
   "cell_type": "code",
   "execution_count": 2,
   "id": "3936a4d9",
   "metadata": {},
   "outputs": [],
   "source": [
    "#data"
   ]
  },
  {
   "cell_type": "code",
   "execution_count": 3,
   "id": "91c06da3",
   "metadata": {},
   "outputs": [
    {
     "data": {
      "text/plain": [
       "{'utterance_id': '00c6a8465597d51df14e690bf72da377b2e2f68f',\n",
       " 'tree_id': 'da6ff4de766c67f108c370a4f837c78b9889739c',\n",
       " 'source_url': 'https://www.benefits.gov/benefits/benefit-details/347',\n",
       " 'snippet': 'Eligible applicants may obtain direct loans for up to a maximum indebtedness of $300,000, and guaranteed loans for up to a maximum indebtedness of $1,392,000 (amount adjusted annually for inflation).',\n",
       " 'question': 'Does this loan meet my needs?',\n",
       " 'scenario': 'I doe not need a direct loan and needs to borrow $2,000,000. ',\n",
       " 'answer': 'No',\n",
       " 'history': [{'follow_up_question': 'Do you need a direct loan?',\n",
       "   'follow_up_answer': 'No'},\n",
       "  {'follow_up_question': 'Do you need to borrow more than $1,392,000?',\n",
       "   'follow_up_answer': 'Yes'}],\n",
       " 'evidence': []}"
      ]
     },
     "execution_count": 3,
     "metadata": {},
     "output_type": "execute_result"
    }
   ],
   "source": [
    "# inspecting a data sample\n",
    "data[69]"
   ]
  },
  {
   "cell_type": "code",
   "execution_count": 4,
   "id": "e36c7e86",
   "metadata": {},
   "outputs": [
    {
     "data": {
      "text/plain": [
       "21890"
      ]
     },
     "execution_count": 4,
     "metadata": {},
     "output_type": "execute_result"
    }
   ],
   "source": [
    "len(data)"
   ]
  },
  {
   "cell_type": "markdown",
   "id": "44107af1",
   "metadata": {},
   "source": [
    "# Putting sharc data in quac format"
   ]
  },
  {
   "cell_type": "code",
   "execution_count": null,
   "id": "b827adb5",
   "metadata": {},
   "outputs": [],
   "source": [
    "quac_format= {\n",
    "    'data':[{\n",
    "        'paragraphs':[{\n",
    "            'context': str,\n",
    "            'qas': [{\n",
    "                'followup': str,\n",
    "                'yesno': str,\n",
    "                'question': str ,\n",
    "                'answers': str,\n",
    "                'id': ,\n",
    "                'orig_answer':\n",
    "            }],\n",
    "            'id':\n",
    "        }] ,\n",
    "        'section_title': ,\n",
    "        'background': ,\n",
    "        'title': \n",
    "    }]\n",
    "}"
   ]
  },
  {
   "cell_type": "code",
   "execution_count": 5,
   "id": "8152f2bd",
   "metadata": {},
   "outputs": [],
   "source": [
    "quac_formated= []\n",
    "for utterance in data:\n",
    "    \n",
    "    quac_formated.append(\n",
    "        {\n",
    "            'paragraphs': [{\n",
    "                'context': utterance['snippet'],\n",
    "                'qas':[{\n",
    "                    'followup': '',\n",
    "                    'yesno': '',\n",
    "                    'question': utterance['question'],\n",
    "                    'answers': [{\n",
    "                        'text':  utterance['answer'], \n",
    "                        'answer_start':''\n",
    "                    }],\n",
    "                    'id': '',\n",
    "                    'orig_answer': ''\n",
    "                }],\n",
    "                'id':''\n",
    "            }],\n",
    "            'section_title': '',\n",
    "            'background': '',\n",
    "            'title': ''\n",
    "        }\n",
    "    )"
   ]
  },
  {
   "cell_type": "code",
   "execution_count": 6,
   "id": "2a1aff7e",
   "metadata": {},
   "outputs": [
    {
     "data": {
      "text/plain": [
       "21890"
      ]
     },
     "execution_count": 6,
     "metadata": {},
     "output_type": "execute_result"
    }
   ],
   "source": [
    "len(quac_formated)"
   ]
  },
  {
   "cell_type": "code",
   "execution_count": 7,
   "id": "eb513393",
   "metadata": {},
   "outputs": [],
   "source": [
    "quac_formated_data= {\n",
    "    'data': quac_formated\n",
    "}"
   ]
  },
  {
   "cell_type": "markdown",
   "id": "d389da62",
   "metadata": {},
   "source": [
    "# Sharc DPR "
   ]
  },
  {
   "cell_type": "code",
   "execution_count": 8,
   "id": "cb1d6331",
   "metadata": {},
   "outputs": [],
   "source": [
    "import requests"
   ]
  },
  {
   "cell_type": "code",
   "execution_count": 9,
   "id": "ebf0124d",
   "metadata": {},
   "outputs": [
    {
     "data": {
      "text/plain": [
       "{'cluster_name': 'elasticsearch',\n",
       " 'status': 'yellow',\n",
       " 'timed_out': False,\n",
       " 'number_of_nodes': 1,\n",
       " 'number_of_data_nodes': 1,\n",
       " 'active_primary_shards': 4,\n",
       " 'active_shards': 4,\n",
       " 'relocating_shards': 0,\n",
       " 'initializing_shards': 0,\n",
       " 'unassigned_shards': 3,\n",
       " 'delayed_unassigned_shards': 0,\n",
       " 'number_of_pending_tasks': 0,\n",
       " 'number_of_in_flight_fetch': 0,\n",
       " 'task_max_waiting_in_queue_millis': 0,\n",
       " 'active_shards_percent_as_number': 57.14285714285714}"
      ]
     },
     "execution_count": 9,
     "metadata": {},
     "output_type": "execute_result"
    }
   ],
   "source": [
    "requests.get(\"http://localhost:9200/_cluster/health\").json()"
   ]
  },
  {
   "cell_type": "code",
   "execution_count": 10,
   "id": "31df6732",
   "metadata": {},
   "outputs": [
    {
     "name": "stderr",
     "output_type": "stream",
     "text": [
      "C:\\Users\\Abdelrahman\\AppData\\Roaming\\Python\\Python37\\site-packages\\ray\\autoscaler\\_private\\cli_logger.py:61: FutureWarning: Not all Ray CLI dependencies were found. In Ray 1.4+, the Ray CLI, autoscaler, and dashboard will only be usable via `pip install 'ray[default]'`. Please update your install command.\n",
      "  \"update your install command.\", FutureWarning)\n"
     ]
    }
   ],
   "source": [
    "from time import sleep\n",
    "\n",
    "from typing import List, Dict, Iterator\n",
    "\n",
    "from elasticsearch import Elasticsearch\n",
    "\n",
    "from haystack.retriever.sparse import ElasticsearchRetriever\n",
    "from haystack.document_store.elasticsearch import ElasticsearchDocumentStore\n",
    "\n",
    "from tqdm import tqdm\n",
    "import json\n",
    "import random\n",
    "import re"
   ]
  },
  {
   "cell_type": "code",
   "execution_count": 11,
   "id": "b04599cc",
   "metadata": {},
   "outputs": [],
   "source": [
    "def convert_quac_to_dicts(quac_data:dict):\n",
    "    \"\"\"Puts ctxs in format to be stored as ElasticsearchDocumentStore object.\"\"\"\n",
    "\n",
    "    documents = []\n",
    "    for article in quac_data:\n",
    "        article_title = article[\"title\"]\n",
    "        for para_idx, paragraph in enumerate(article[\"paragraphs\"]):\n",
    "            context = paragraph[\"context\"]\n",
    "            documents.append({\"text\": context, \"meta\": {\"name\": f\"{article_title}_{para_idx}\"}})\n",
    "    return documents\n"
   ]
  },
  {
   "cell_type": "code",
   "execution_count": 12,
   "id": "dbda7da9",
   "metadata": {},
   "outputs": [],
   "source": [
    "def launch_and_index_es(documents_dicts: List):\n",
    "    \"\"\"stores Docs in a document store and instantiates retriever.\"\"\"\n",
    "\n",
    "    document_store = ElasticsearchDocumentStore(host=\"localhost\", username=\"\", password=\"\", index=\"document\")\n",
    "    document_store.write_documents(documents_dicts)\n",
    "    retriever = ElasticsearchRetriever(document_store=document_store)\n",
    "    return retriever"
   ]
  },
  {
   "cell_type": "code",
   "execution_count": 13,
   "id": "b788ad81",
   "metadata": {},
   "outputs": [],
   "source": [
    "def prepare_es_retrieval(quac_data: Dict):\n",
    "    documents = convert_quac_to_dicts(quac_data=quac_data)\n",
    "    return launch_and_index_es(documents)"
   ]
  },
  {
   "cell_type": "code",
   "execution_count": 14,
   "id": "1d26185e",
   "metadata": {},
   "outputs": [],
   "source": [
    "def get_hard_negative_context(retriever: ElasticsearchRetriever, question: str, positive_ctxs: str,\n",
    "                              n_ctxs: int = 10, n_chars: int = 600):\n",
    "    \"\"\" a function to generate Hard negative ctxs.\"\"\"\n",
    "    \n",
    "    list_hard_neg_ctxs = []\n",
    "    retrieved_docs = retriever.retrieve(query=question, top_k=n_ctxs, index=\"document\")\n",
    "    for retrieved_doc in retrieved_docs:\n",
    "        retrieved_doc_id = retrieved_doc.meta[\"name\"]\n",
    "        retrieved_doc_text = retrieved_doc.text\n",
    "        if positive_ctxs.lower() in retrieved_doc_text.lower():\n",
    "            continue\n",
    "        list_hard_neg_ctxs.append({\"title\": retrieved_doc_id, \"text\": retrieved_doc_text[:n_chars]})\n",
    "\n",
    "    return list_hard_neg_ctxs"
   ]
  },
  {
   "cell_type": "code",
   "execution_count": 15,
   "id": "f0942b80",
   "metadata": {},
   "outputs": [],
   "source": [
    "def create_dpr_training_dataset(quac_data: list,  quac_data_version: str):\n",
    "    \"\"\" a function to generate DPR formated data\"\"\"\n",
    "    \n",
    "    version = quac_data_version\n",
    "    quac_data = quac_data\n",
    "    \n",
    "    retriever = prepare_es_retrieval(quac_data=quac_data)\n",
    "    random.shuffle(quac_data)\n",
    "    \n",
    "    list_DPR = []\n",
    "\n",
    "    for idx_article, article in enumerate(tqdm(quac_data[:], unit=\"article\")):\n",
    "        article_title = article[\"title\"]\n",
    "        for paragraph in article[\"paragraphs\"]:\n",
    "            context = paragraph[\"context\"]\n",
    "            for question in paragraph[\"qas\"]:\n",
    "                answers = [a[\"text\"] for a in question[\"answers\"]]\n",
    "\n",
    "                positive_ctxs = [{\n",
    "                    \"title\": article_title,\n",
    "                    \"text\": context\n",
    "                }]\n",
    "                \n",
    "                hard_negative_ctxs = get_hard_negative_context(retriever=retriever,\n",
    "                                                               question=question[\"question\"],\n",
    "                                                               positive_ctxs=positive_ctxs[0]['text'],\n",
    "                                                               n_ctxs=10)                \n",
    "                \n",
    "                dict_DPR = {\n",
    "                    \"question\": question[\"question\"],\n",
    "                    \"answers\": answers,\n",
    "                    \"positive_ctxs\": positive_ctxs,\n",
    "                    \"negative_ctxs\": [],\n",
    "                    \"hard_negative_ctxs\": hard_negative_ctxs\n",
    "                }\n",
    "                list_DPR.append(dict_DPR)\n",
    "                \n",
    "    return list_DPR"
   ]
  },
  {
   "cell_type": "code",
   "execution_count": null,
   "id": "500e93c8",
   "metadata": {},
   "outputs": [],
   "source": [
    "dpr_data= create_dpr_training_dataset(quac_data= quac_formated_data['data'], quac_data_version= 'bla')"
   ]
  },
  {
   "cell_type": "code",
   "execution_count": null,
   "id": "1e4e7cf3",
   "metadata": {},
   "outputs": [],
   "source": [
    "# Inspecting data instance\n",
    "dpr_data[4]"
   ]
  },
  {
   "cell_type": "code",
   "execution_count": null,
   "id": "927b8c14",
   "metadata": {},
   "outputs": [],
   "source": [
    "len(dpr_data)"
   ]
  },
  {
   "cell_type": "markdown",
   "id": "b56cb398",
   "metadata": {},
   "source": [
    "# saving data to a file"
   ]
  },
  {
   "cell_type": "code",
   "execution_count": null,
   "id": "15a2ceff",
   "metadata": {},
   "outputs": [],
   "source": [
    "file = open(\"DPR_formated_Sharc.json\", \"w\")\n",
    "json.dump(dpr_data, file)\n",
    "file.close()"
   ]
  },
  {
   "cell_type": "code",
   "execution_count": null,
   "id": "5b864623",
   "metadata": {},
   "outputs": [],
   "source": []
  }
 ],
 "metadata": {
  "kernelspec": {
   "display_name": "Python 3 (ipykernel)",
   "language": "python",
   "name": "python3"
  },
  "language_info": {
   "codemirror_mode": {
    "name": "ipython",
    "version": 3
   },
   "file_extension": ".py",
   "mimetype": "text/x-python",
   "name": "python",
   "nbconvert_exporter": "python",
   "pygments_lexer": "ipython3",
   "version": "3.7.11"
  }
 },
 "nbformat": 4,
 "nbformat_minor": 5
}
