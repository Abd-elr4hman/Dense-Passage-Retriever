{
 "cells": [
  {
   "cell_type": "markdown",
   "id": "40ff70a9",
   "metadata": {},
   "source": [
    "# Load and merge DPR format for sharc and quac"
   ]
  },
  {
   "cell_type": "code",
   "execution_count": 1,
   "id": "ece71899",
   "metadata": {},
   "outputs": [],
   "source": [
    "import json\n",
    "\n",
    "with open('./data/quacdata/train_v0.2.json') as json_file:\n",
    "    data = json.load(json_file)"
   ]
  },
  {
   "cell_type": "code",
   "execution_count": 2,
   "id": "1e003276",
   "metadata": {},
   "outputs": [
    {
     "data": {
      "text/plain": [
       "83568"
      ]
     },
     "execution_count": 2,
     "metadata": {},
     "output_type": "execute_result"
    }
   ],
   "source": [
    "len(data)"
   ]
  },
  {
   "cell_type": "code",
   "execution_count": 3,
   "id": "9aded469",
   "metadata": {},
   "outputs": [],
   "source": [
    "with open('./data/sharc data/sharc1-official/json/sharc_train.json') as json_file:\n",
    "    data_sharc = json.load(json_file)"
   ]
  },
  {
   "cell_type": "code",
   "execution_count": 4,
   "id": "eb78c0c4",
   "metadata": {},
   "outputs": [
    {
     "data": {
      "text/plain": [
       "21890"
      ]
     },
     "execution_count": 4,
     "metadata": {},
     "output_type": "execute_result"
    }
   ],
   "source": [
    "len(data_sharc)"
   ]
  },
  {
   "cell_type": "code",
   "execution_count": 5,
   "id": "abbaca60",
   "metadata": {},
   "outputs": [],
   "source": [
    "# merge\n",
    "data.extend(data_sharc)"
   ]
  },
  {
   "cell_type": "code",
   "execution_count": 6,
   "id": "b9e641f6",
   "metadata": {},
   "outputs": [
    {
     "data": {
      "text/plain": [
       "105458"
      ]
     },
     "execution_count": 6,
     "metadata": {},
     "output_type": "execute_result"
    }
   ],
   "source": [
    "len(data)"
   ]
  },
  {
   "cell_type": "markdown",
   "id": "339b6173",
   "metadata": {},
   "source": [
    "### Sanity check that both are exactly the same :D"
   ]
  },
  {
   "cell_type": "code",
   "execution_count": 7,
   "id": "79573e72",
   "metadata": {},
   "outputs": [
    {
     "data": {
      "text/plain": [
       "dict_keys(['question', 'answers', 'positive_ctxs', 'negative_ctxs', 'hard_negative_ctxs'])"
      ]
     },
     "execution_count": 7,
     "metadata": {},
     "output_type": "execute_result"
    }
   ],
   "source": [
    "data[0].keys()"
   ]
  },
  {
   "cell_type": "code",
   "execution_count": 8,
   "id": "c956b0b3",
   "metadata": {},
   "outputs": [
    {
     "data": {
      "text/plain": [
       "dict_keys(['question', 'answers', 'positive_ctxs', 'negative_ctxs', 'hard_negative_ctxs'])"
      ]
     },
     "execution_count": 8,
     "metadata": {},
     "output_type": "execute_result"
    }
   ],
   "source": [
    "data[85000].keys()"
   ]
  },
  {
   "cell_type": "code",
   "execution_count": 9,
   "id": "b6e2bc8e",
   "metadata": {},
   "outputs": [
    {
     "data": {
      "text/plain": [
       "dict_keys(['title', 'text'])"
      ]
     },
     "execution_count": 9,
     "metadata": {},
     "output_type": "execute_result"
    }
   ],
   "source": [
    "data[0]['positive_ctxs'][0].keys()"
   ]
  },
  {
   "cell_type": "code",
   "execution_count": 10,
   "id": "b0d9e2e2",
   "metadata": {},
   "outputs": [
    {
     "data": {
      "text/plain": [
       "dict_keys(['title', 'text'])"
      ]
     },
     "execution_count": 10,
     "metadata": {},
     "output_type": "execute_result"
    }
   ],
   "source": [
    "data[85000]['positive_ctxs'][0].keys()"
   ]
  },
  {
   "cell_type": "code",
   "execution_count": 11,
   "id": "3caa4c55",
   "metadata": {},
   "outputs": [
    {
     "data": {
      "text/plain": [
       "dict_keys(['title', 'text'])"
      ]
     },
     "execution_count": 11,
     "metadata": {},
     "output_type": "execute_result"
    }
   ],
   "source": [
    "data[0]['hard_negative_ctxs'][0].keys()"
   ]
  },
  {
   "cell_type": "code",
   "execution_count": 12,
   "id": "e3657c8a",
   "metadata": {},
   "outputs": [
    {
     "data": {
      "text/plain": [
       "dict_keys(['title', 'text'])"
      ]
     },
     "execution_count": 12,
     "metadata": {},
     "output_type": "execute_result"
    }
   ],
   "source": [
    "data[85000]['hard_negative_ctxs'][0].keys()"
   ]
  },
  {
   "cell_type": "markdown",
   "id": "c11617c6",
   "metadata": {},
   "source": [
    "# Preprocess text"
   ]
  },
  {
   "cell_type": "code",
   "execution_count": 13,
   "id": "eb32de7a",
   "metadata": {},
   "outputs": [],
   "source": [
    "import re"
   ]
  },
  {
   "cell_type": "code",
   "execution_count": 14,
   "id": "6a7feb19",
   "metadata": {},
   "outputs": [],
   "source": [
    "def clean_text(text):\n",
    "    text = re.sub(\"[^a-zA-Z0-9\\\\s]\", \"\", text)\n",
    "    text = text.strip()\n",
    "    text = \" \".join(text.split())\n",
    "    return text"
   ]
  },
  {
   "cell_type": "code",
   "execution_count": 15,
   "id": "a948d0c2",
   "metadata": {},
   "outputs": [
    {
     "name": "stdout",
     "output_type": "stream",
     "text": [
      "Ahmed Abdallah 75 is a nice collegue\n"
     ]
    }
   ],
   "source": [
    "# test cleaning function\n",
    "text= \"      ###Ahmed ----Abdallah 75 is a nice coll$&^egue   \\n\\n     \"\n",
    "print(clean_text(text))"
   ]
  },
  {
   "cell_type": "code",
   "execution_count": 16,
   "id": "a4096e85",
   "metadata": {},
   "outputs": [],
   "source": [
    "def Preprocess_text(data):\n",
    "    for sample in data:\n",
    "        sample['question']= clean_text(sample['question'])\n",
    "        sample['answers']= [clean_text(answer) for answer in sample['answers']]\n",
    "    \n",
    "        for ctx in sample['positive_ctxs']:\n",
    "            ctx['text']= clean_text(ctx['text'])\n",
    "        \n",
    "        for hctx in sample['hard_negative_ctxs']:\n",
    "            hctx['text']= clean_text(hctx['text'])\n",
    "    return data"
   ]
  },
  {
   "cell_type": "code",
   "execution_count": 17,
   "id": "ec17ac65",
   "metadata": {},
   "outputs": [],
   "source": [
    "data= Preprocess_text(data)"
   ]
  },
  {
   "cell_type": "code",
   "execution_count": 20,
   "id": "35032986",
   "metadata": {},
   "outputs": [
    {
     "data": {
      "text/plain": [
       "{'question': 'Did the visit lead to any other significant changes in policy',\n",
       " 'answers': ['The visit ushered in a new era of SinoAmerican relations Fearing the possibility of a SinoAmerican alliance the Soviet Union yielded to pressure for detente with the United States'],\n",
       " 'positive_ctxs': [{'title': 'Richard Nixon',\n",
       "   'text': 'Nixon laid the groundwork for his overture to China before he became president writing in Foreign Affairs a year before his election There is no place on this small planet for a billion of its potentially most able people to live in angry isolation Assisting him in this venture was his National Security Advisor and future Secretary of State Henry Kissinger with whom the President worked closely bypassing Cabinet officials With relations between the Soviet Union and China at a nadirborder clashes between the two took place during Nixons first year in officeNixon sent private word to the Chinese that he desired closer relations A breakthrough came in early 1971 when Chairman Mao invited a team of American table tennis players to visit China and play against top Chinese players Nixon followed up by sending Kissinger to China for clandestine meetings with Chinese officials On July 15 1971 it was simultaneously announced by Beijing and by Nixon on television and radio that the President would visit China the following February The announcements astounded the world The secrecy allowed both sets of leaders time to prepare the political climate in their countries for the contact In February 1972 Nixon and his wife traveled to China Kissinger briefed Nixon for over 40 hours in preparation Upon touching down the President and First Lady emerged from Air Force One and greeted Chinese Premier Zhou Enlai Nixon made a point of shaking Zhous hand something which thenSecretary of State John Foster Dulles had refused to do in 1954 when the two met in Geneva Over 100 television journalists accompanied the president On Nixons orders television was strongly favored over printed publications as Nixon felt that the medium would capture the visit much better than print It also gave him the opportunity to snub the print journalists he despised Nixon and Kissinger met for an hour with Mao and Zhou at Maos official private residence where they discussed a range of issues Mao later told his doctor that he had been impressed by Nixon whom he considered forthright unlike the leftists and the Soviets He said he was suspicious of Kissinger though the National Security Advisor referred to their meeting as his encounter with history A formal banquet welcoming the presidential party was given that evening in the Great Hall of the People The following day Nixon met with Zhou the joint communique following this meeting recognized Taiwan as a part of China and looked forward to a peaceful solution to the problem of reunification When not in meetings Nixon toured architectural wonders including the Forbidden City Ming Tombs and the Great Wall Americans received their first glimpse into Chinese life through the cameras which accompanied Pat Nixon who toured the city of Beijing and visited communes schools factories and hospitals The visit ushered in a new era of SinoAmerican relations Fearing the possibility of a SinoAmerican alliance the Soviet Union yielded to pressure for detente with the United States CANNOTANSWER'}],\n",
       " 'negative_ctxs': [],\n",
       " 'hard_negative_ctxs': [{'title': 'Mike Gravel_0',\n",
       "   'text': 'In the late 1960s and early 1970s the US Department of Defense was in the process of performing tests for the nuclear warhead for the Spartan antiballistic missile Two tests the Milrow and Cannikin tests were planned involving the detonation of nuclear bombs under Amchitka Island in Alaska The Milrow test would be a one megaton calibration exercise for the second and larger five megaton Cannikin test which would measure the effectiveness of the warhead Gravel opposed the tests in Congress Before the Milrow test took place in October 1969 he wrote that there were significant r'},\n",
       "  {'title': 'Richard Nixon_0',\n",
       "   'text': 'Nixon used the improving international environment to address the topic of nuclear peace Following the announcement of his visit to China the Nixon administration concluded negotiations for him to visit the Soviet Union The President and First Lady arrived in Moscow on May 22 1972 and met with Leonid Brezhnev the General Secretary of the Communist Party Alexei Kosygin the Chairman of the Council of Ministers and Nikolai Podgorny the head of state among other leading Soviet officials Nixon engaged in intense negotiations with Brezhnev Out of the summit came agreements for increased'},\n",
       "  {'title': 'Ramzan Kadyrov_0',\n",
       "   'text': 'In 2006 the production of Chechnyas industry increased by 119 In 2007 the rate of growth was 264 In February 2010 head of the British delegation of the Human Rights Group Lord Judd formerly bitterly critical of the Russian authorities for the situation in Chechnya pointed out a striking change for the better in the Russian North Caucasus republic Judd said that changes which occurred since his visit as a member of PACE delegation in 2000 were so overwhelming that sometimes you forget about what happened here until quite recently According to a 2016 report by Russian opposit'},\n",
       "  {'title': 'The Three Stooges_0',\n",
       "   'text': 'Over half a century since their last short film was released the Three Stooges remain popular with audiences Their films have never left American television since first appearing in 1958 and they continue to delight old fans while attracting new admirers They were a hardworking group of comedians who were never the critics darlings a durable act who endured several personnel changes in their careers that would have permanently sidelined a less persistent act The Stooges would not have lasted as long as they did as a unit without Moe Howards guiding hand The Ted Okuda and Edward Watz'},\n",
       "  {'title': 'Hall & Oates_0',\n",
       "   'text': 'The 1980s brought about significant changes for Hall and Oates The pair felt that the biggest hindrance to their success was that their music was being filtered through outside producers and that studio musicians were not familiar with their own tastes and thoughts They also wished to capture the sound of New York City which by then had become their home As a result instead of recording in Los Angeles as they had done previously they decided to record at Electric Lady Studios in New York City just five minutes away from their apartments and began producing their own recordings with'},\n",
       "  {'title': 'Exile (American band)_0',\n",
       "   'text': 'The band changed musical styles throughout the late 1960s and early 1970s They shortened their name to Exile in 1973 and released their eponymous debut album through Wooden Nickel Records that same year Singles released from the album proved unsuccessful and it would be a good five years before the band released a fulllength followup album In 1977 the band released the single Try it On on Atco Records and it became a minor hit The following year Mike Chapman an Australian who had established himself as a record producer in the UK came to the United States in search of an experie'},\n",
       "  {'title': 'The Man with the Golden Arm_0',\n",
       "   'text': 'Screen rights to Algrens novel were first acquired in 1949 on behalf of John Garfield who planned to star in the film version However production was delayed because the Production Code Authority PCA refused to approve the script with Joseph Breen stating that the basic story was unacceptable because of the Codes prohibition on showing illegal drug trafficking and drug addiction The ability to obtain PCA approval was critical because at that time many movie theaters would not show films that had not received approval The PCA further predicted that the subject would also be unaccept'},\n",
       "  {'title': 'Grover Norquist_0',\n",
       "   'text': 'Norquist is best known for founding Americans for Tax Reform ATR in 1985 which he says was done at the request of thenPresident Ronald Reagan Referring to Norquists activities as head of ATR Steve Kroft in a 60 Minutes episode that aired on November 20 2011 claimed that Norquist has been responsible more than anyone else for rewriting the dogma of the Republican Party The primary policy goal of Americans for Tax Reform is to reduce government revenues as a percentage of the GDP ATR states that it opposes all tax increases as a matter of principle Americans for Tax Reform ha'},\n",
       "  {'title': 'Wilhelm II, German Emperor_0',\n",
       "   'text': 'German foreign policy under Wilhelm II was faced with a number of significant problems Perhaps the most apparent was that Wilhelm was an impatient man subjective in his reactions and affected strongly by sentiment and impulse He was personally illequipped to steer German foreign policy along a rational course It is now widely recognised that the various spectacular acts which Wilhelm undertook in the international sphere were often partially encouraged by the German foreign policy elite There were a number of notorious examples such as the Kruger telegram of 1896 in which Wilhelm congra'},\n",
       "  {'title': 'Exposé (group)_0',\n",
       "   'text': 'In March 1987 the new lineup of Expose released its debut album Exposure on Arista Records led by the popdance hit Come Go with Me which reached 5 on the US Billboard Hot 100 chart During the summer of 1987 a rerecorded version of Point of No Return was released with Jurado now performing lead vocals and it too topped out at 5 on the US Hot 100 While the initial distribution of Exposure to suppliers contained the original 1984 version of that song subsequent pressings contained the new version Let Me Be the One a midtempo RB song with Bruno on lead vocal became yet anoth'}]}"
      ]
     },
     "execution_count": 20,
     "metadata": {},
     "output_type": "execute_result"
    }
   ],
   "source": [
    "# Inspecting a data sample\n",
    "data[5]"
   ]
  },
  {
   "cell_type": "code",
   "execution_count": 19,
   "id": "ae09d722",
   "metadata": {},
   "outputs": [
    {
     "data": {
      "text/plain": [
       "105458"
      ]
     },
     "execution_count": 19,
     "metadata": {},
     "output_type": "execute_result"
    }
   ],
   "source": [
    "len(data)"
   ]
  },
  {
   "cell_type": "markdown",
   "id": "bc0e9c6b",
   "metadata": {},
   "source": [
    "# saving the Final dataset"
   ]
  },
  {
   "cell_type": "code",
   "execution_count": 27,
   "id": "e2c9042a",
   "metadata": {},
   "outputs": [],
   "source": [
    "file = open(\"DPR_formated_Final.json\", \"w\")\n",
    "json.dump(data, file)\n",
    "file.close()"
   ]
  },
  {
   "cell_type": "code",
   "execution_count": null,
   "id": "76c95dbe",
   "metadata": {},
   "outputs": [],
   "source": []
  }
 ],
 "metadata": {
  "kernelspec": {
   "display_name": "Python 3 (ipykernel)",
   "language": "python",
   "name": "python3"
  },
  "language_info": {
   "codemirror_mode": {
    "name": "ipython",
    "version": 3
   },
   "file_extension": ".py",
   "mimetype": "text/x-python",
   "name": "python",
   "nbconvert_exporter": "python",
   "pygments_lexer": "ipython3",
   "version": "3.7.11"
  }
 },
 "nbformat": 4,
 "nbformat_minor": 5
}
