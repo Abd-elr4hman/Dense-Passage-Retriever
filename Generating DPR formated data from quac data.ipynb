{
 "cells": [
  {
   "cell_type": "markdown",
   "id": "3f849f93",
   "metadata": {},
   "source": [
    "## This following link helped me create this notebook\n",
    "https://github.com/psorianom/DPR/blob/master/dpr2hf/squad2dpr.py"
   ]
  },
  {
   "cell_type": "markdown",
   "id": "c839c7b0",
   "metadata": {},
   "source": [
    "### Note: this notebook was run locally"
   ]
  },
  {
   "cell_type": "code",
   "execution_count": 1,
   "id": "3a20daac",
   "metadata": {},
   "outputs": [],
   "source": [
    "import requests"
   ]
  },
  {
   "cell_type": "code",
   "execution_count": 2,
   "id": "d0b4b76d",
   "metadata": {},
   "outputs": [
    {
     "data": {
      "text/plain": [
       "{'cluster_name': 'elasticsearch',\n",
       " 'status': 'yellow',\n",
       " 'timed_out': False,\n",
       " 'number_of_nodes': 1,\n",
       " 'number_of_data_nodes': 1,\n",
       " 'active_primary_shards': 4,\n",
       " 'active_shards': 4,\n",
       " 'relocating_shards': 0,\n",
       " 'initializing_shards': 0,\n",
       " 'unassigned_shards': 3,\n",
       " 'delayed_unassigned_shards': 0,\n",
       " 'number_of_pending_tasks': 0,\n",
       " 'number_of_in_flight_fetch': 0,\n",
       " 'task_max_waiting_in_queue_millis': 0,\n",
       " 'active_shards_percent_as_number': 57.14285714285714}"
      ]
     },
     "execution_count": 2,
     "metadata": {},
     "output_type": "execute_result"
    }
   ],
   "source": [
    "requests.get(\"http://localhost:9200/_cluster/health\").json()"
   ]
  },
  {
   "cell_type": "markdown",
   "id": "6ad82ba5",
   "metadata": {},
   "source": [
    "# Imports"
   ]
  },
  {
   "cell_type": "code",
   "execution_count": 1,
   "id": "e8faeba3",
   "metadata": {},
   "outputs": [
    {
     "name": "stderr",
     "output_type": "stream",
     "text": [
      "C:\\Users\\Abdelrahman\\AppData\\Roaming\\Python\\Python37\\site-packages\\ray\\autoscaler\\_private\\cli_logger.py:61: FutureWarning: Not all Ray CLI dependencies were found. In Ray 1.4+, the Ray CLI, autoscaler, and dashboard will only be usable via `pip install 'ray[default]'`. Please update your install command.\n",
      "  \"update your install command.\", FutureWarning)\n"
     ]
    }
   ],
   "source": [
    "from time import sleep\n",
    "\n",
    "from typing import List, Dict, Iterator\n",
    "\n",
    "from elasticsearch import Elasticsearch\n",
    "\n",
    "from haystack.retriever.sparse import ElasticsearchRetriever\n",
    "from haystack.document_store.elasticsearch import ElasticsearchDocumentStore\n",
    "\n",
    "from tqdm import tqdm\n",
    "import json\n",
    "import random\n",
    "import re"
   ]
  },
  {
   "cell_type": "code",
   "execution_count": 2,
   "id": "3be0cc61",
   "metadata": {},
   "outputs": [],
   "source": [
    "import json\n",
    "\n",
    "with open('./data/quacdata/train_v0.2.json') as json_file:\n",
    "    data = json.load(json_file)"
   ]
  },
  {
   "cell_type": "code",
   "execution_count": 3,
   "id": "8e0bba58",
   "metadata": {},
   "outputs": [],
   "source": [
    "quac_data_= data['data']"
   ]
  },
  {
   "cell_type": "code",
   "execution_count": 4,
   "id": "3053a7e8",
   "metadata": {},
   "outputs": [],
   "source": [
    "quac_data_version= '0.2'"
   ]
  },
  {
   "cell_type": "markdown",
   "id": "3540c887",
   "metadata": {},
   "source": [
    "# Prepairing data"
   ]
  },
  {
   "cell_type": "code",
   "execution_count": 5,
   "id": "7b44ae52",
   "metadata": {},
   "outputs": [],
   "source": [
    "def convert_quac_to_dicts(quac_data:dict):\n",
    "    \"\"\"Puts ctxs in format to be stored as ElasticsearchDocumentStore object.\"\"\"\n",
    "\n",
    "    documents = []\n",
    "    for article in quac_data:\n",
    "        article_title = article[\"title\"]\n",
    "        for para_idx, paragraph in enumerate(article[\"paragraphs\"]):\n",
    "            context = paragraph[\"context\"]\n",
    "            documents.append({\"text\": context, \"meta\": {\"name\": f\"{article_title}_{para_idx}\"}})\n",
    "    return documents\n"
   ]
  },
  {
   "cell_type": "code",
   "execution_count": 6,
   "id": "5764bc48",
   "metadata": {},
   "outputs": [],
   "source": [
    "documents= convert_quac_to_dicts(quac_data_)"
   ]
  },
  {
   "cell_type": "code",
   "execution_count": null,
   "id": "177760d3",
   "metadata": {},
   "outputs": [],
   "source": [
    "#documents"
   ]
  },
  {
   "cell_type": "code",
   "execution_count": 7,
   "id": "819b9c09",
   "metadata": {},
   "outputs": [],
   "source": [
    "def launch_and_index_es(documents_dicts: List):\n",
    "    \"\"\"stores Docs in a document store and instantiates retriever.\"\"\"\n",
    "    \n",
    "    document_store = ElasticsearchDocumentStore(host=\"localhost\", username=\"\", password=\"\", index=\"document\")\n",
    "    document_store.write_documents(documents_dicts)\n",
    "    retriever = ElasticsearchRetriever(document_store=document_store)\n",
    "    return retriever"
   ]
  },
  {
   "cell_type": "code",
   "execution_count": 8,
   "id": "ed29bc7c",
   "metadata": {},
   "outputs": [
    {
     "name": "stderr",
     "output_type": "stream",
     "text": [
      "12/08/2021 15:54:54 - INFO - elasticsearch -   HEAD http://localhost:9200/ [status:200 request:0.004s]\n",
      "12/08/2021 15:54:54 - INFO - elasticsearch -   HEAD http://localhost:9200/document [status:200 request:0.001s]\n",
      "12/08/2021 15:54:54 - INFO - elasticsearch -   GET http://localhost:9200/document [status:200 request:0.000s]\n",
      "12/08/2021 15:54:54 - INFO - elasticsearch -   PUT http://localhost:9200/document/_mapping [status:200 request:0.004s]\n",
      "12/08/2021 15:54:54 - INFO - elasticsearch -   HEAD http://localhost:9200/label [status:200 request:0.001s]\n",
      "12/08/2021 15:54:56 - INFO - elasticsearch -   POST http://localhost:9200/_bulk?refresh=wait_for [status:200 request:1.044s]\n",
      "12/08/2021 15:54:57 - INFO - elasticsearch -   POST http://localhost:9200/_bulk?refresh=wait_for [status:200 request:1.065s]\n",
      "12/08/2021 15:54:58 - INFO - elasticsearch -   POST http://localhost:9200/_bulk?refresh=wait_for [status:200 request:1.044s]\n",
      "12/08/2021 15:54:59 - INFO - elasticsearch -   POST http://localhost:9200/_bulk?refresh=wait_for [status:200 request:1.055s]\n",
      "12/08/2021 15:55:00 - INFO - elasticsearch -   POST http://localhost:9200/_bulk?refresh=wait_for [status:200 request:1.048s]\n",
      "12/08/2021 15:55:01 - INFO - elasticsearch -   POST http://localhost:9200/_bulk?refresh=wait_for [status:200 request:1.052s]\n",
      "12/08/2021 15:55:02 - INFO - elasticsearch -   POST http://localhost:9200/_bulk?refresh=wait_for [status:200 request:1.061s]\n",
      "12/08/2021 15:55:03 - INFO - elasticsearch -   POST http://localhost:9200/_bulk?refresh=wait_for [status:200 request:1.051s]\n",
      "12/08/2021 15:55:04 - INFO - elasticsearch -   POST http://localhost:9200/_bulk?refresh=wait_for [status:200 request:1.057s]\n",
      "12/08/2021 15:55:05 - INFO - elasticsearch -   POST http://localhost:9200/_bulk?refresh=wait_for [status:200 request:1.068s]\n",
      "12/08/2021 15:55:06 - INFO - elasticsearch -   POST http://localhost:9200/_bulk?refresh=wait_for [status:200 request:1.067s]\n",
      "12/08/2021 15:55:07 - INFO - elasticsearch -   POST http://localhost:9200/_bulk?refresh=wait_for [status:200 request:1.056s]\n",
      "12/08/2021 15:55:08 - INFO - elasticsearch -   POST http://localhost:9200/_bulk?refresh=wait_for [status:200 request:1.050s]\n",
      "12/08/2021 15:55:09 - INFO - elasticsearch -   POST http://localhost:9200/_bulk?refresh=wait_for [status:200 request:1.052s]\n",
      "12/08/2021 15:55:10 - INFO - elasticsearch -   POST http://localhost:9200/_bulk?refresh=wait_for [status:200 request:1.046s]\n",
      "12/08/2021 15:55:12 - INFO - elasticsearch -   POST http://localhost:9200/_bulk?refresh=wait_for [status:200 request:1.050s]\n",
      "12/08/2021 15:55:13 - INFO - elasticsearch -   POST http://localhost:9200/_bulk?refresh=wait_for [status:200 request:1.045s]\n",
      "12/08/2021 15:55:14 - INFO - elasticsearch -   POST http://localhost:9200/_bulk?refresh=wait_for [status:200 request:1.056s]\n",
      "12/08/2021 15:55:15 - INFO - elasticsearch -   POST http://localhost:9200/_bulk?refresh=wait_for [status:200 request:1.047s]\n",
      "12/08/2021 15:55:16 - INFO - elasticsearch -   POST http://localhost:9200/_bulk?refresh=wait_for [status:200 request:1.070s]\n",
      "12/08/2021 15:55:17 - INFO - elasticsearch -   POST http://localhost:9200/_bulk?refresh=wait_for [status:200 request:1.047s]\n",
      "12/08/2021 15:55:18 - INFO - elasticsearch -   POST http://localhost:9200/_bulk?refresh=wait_for [status:200 request:1.043s]\n",
      "12/08/2021 15:55:19 - INFO - elasticsearch -   POST http://localhost:9200/_bulk?refresh=wait_for [status:200 request:1.046s]\n",
      "12/08/2021 15:55:20 - INFO - elasticsearch -   POST http://localhost:9200/_bulk?refresh=wait_for [status:200 request:1.039s]\n"
     ]
    }
   ],
   "source": [
    "retriever= launch_and_index_es(documents)"
   ]
  },
  {
   "cell_type": "code",
   "execution_count": null,
   "id": "c3210a36",
   "metadata": {},
   "outputs": [],
   "source": []
  },
  {
   "cell_type": "code",
   "execution_count": null,
   "id": "b270538a",
   "metadata": {},
   "outputs": [],
   "source": []
  },
  {
   "cell_type": "code",
   "execution_count": null,
   "id": "240dbae2",
   "metadata": {},
   "outputs": [],
   "source": [
    "def prepare_es_retrieval(quac_data: Dict):\n",
    "    documents = convert_quac_to_dicts(quac_data=quac_data)\n",
    "    return launch_and_index_es(documents)"
   ]
  },
  {
   "cell_type": "code",
   "execution_count": null,
   "id": "8e01a1ef",
   "metadata": {},
   "outputs": [],
   "source": [
    "def get_hard_negative_context(retriever: ElasticsearchRetriever, question: str, answer: str, \n",
    "                              n_ctxs: int = 10, n_chars: int = 600):\n",
    "    \"\"\" a function to generate Hard negative ctxs.\"\"\"\n",
    "    list_hard_neg_ctxs = []\n",
    "    retrieved_docs = retriever.retrieve(query=question, top_k=n_ctxs, index=\"document\")\n",
    "    for retrieved_doc in retrieved_docs:\n",
    "        retrieved_doc_id = retrieved_doc.meta[\"name\"]\n",
    "        retrieved_doc_text = retrieved_doc.text\n",
    "        if answer.lower() in retrieved_doc_text.lower():\n",
    "            continue\n",
    "        list_hard_neg_ctxs.append({\"title\": retrieved_doc_id, \"text\": retrieved_doc_text[:n_chars]})\n",
    "\n",
    "    return list_hard_neg_ctxs"
   ]
  },
  {
   "cell_type": "code",
   "execution_count": null,
   "id": "bac93c24",
   "metadata": {},
   "outputs": [],
   "source": [
    "def create_dpr_training_dataset(quac_data: list,  quac_data_version: str):\n",
    "    \"\"\" a function to generate DPR formated data\"\"\"\n",
    "    version = quac_data_version\n",
    "    quac_data = quac_data\n",
    "    \n",
    "    retriever = prepare_es_retrieval(quac_data=quac_data)\n",
    "    random.shuffle(quac_data)\n",
    "    \n",
    "    list_DPR = []\n",
    "\n",
    "    for idx_article, article in enumerate(tqdm(quac_data[:], unit=\"article\")):\n",
    "        article_title = article[\"title\"]\n",
    "        for paragraph in article[\"paragraphs\"]:\n",
    "            context = paragraph[\"context\"]\n",
    "            for question in paragraph[\"qas\"]:\n",
    "                answers = [a[\"text\"] for a in question[\"answers\"]]\n",
    "                hard_negative_ctxs = get_hard_negative_context(retriever=retriever,\n",
    "                                                               question=question[\"question\"],\n",
    "                                                               answer=answers[0],\n",
    "                                                               n_ctxs=10)\n",
    "                positive_ctxs = [{\n",
    "                    \"title\": article_title,\n",
    "                    \"text\": context\n",
    "                }]\n",
    "                dict_DPR = {\n",
    "                    \"question\": question[\"question\"],\n",
    "                    \"answers\": answers,\n",
    "                    \"positive_ctxs\": positive_ctxs,\n",
    "                    \"negative_ctxs\": [],\n",
    "                    \"hard_negative_ctxs\": hard_negative_ctxs\n",
    "                }\n",
    "                list_DPR.append(dict_DPR)\n",
    "                \n",
    "    return list_DPR"
   ]
  },
  {
   "cell_type": "code",
   "execution_count": null,
   "id": "0d2faf32",
   "metadata": {},
   "outputs": [],
   "source": [
    "dpr_data= create_dpr_training_dataset(quac_data= quac_data_, quac_data_version= quac_data_version)"
   ]
  },
  {
   "cell_type": "code",
   "execution_count": null,
   "id": "6e227f91",
   "metadata": {},
   "outputs": [],
   "source": [
    "dpr_data[0].keys()"
   ]
  },
  {
   "cell_type": "code",
   "execution_count": null,
   "id": "69f6a322",
   "metadata": {},
   "outputs": [],
   "source": [
    "dpr_data[0]['question']"
   ]
  },
  {
   "cell_type": "code",
   "execution_count": null,
   "id": "cc9656a2",
   "metadata": {},
   "outputs": [],
   "source": [
    "dpr_data[0]['answers']"
   ]
  },
  {
   "cell_type": "code",
   "execution_count": null,
   "id": "bd7bb8b0",
   "metadata": {},
   "outputs": [],
   "source": [
    "dpr_data[0]['positive_ctxs']"
   ]
  },
  {
   "cell_type": "code",
   "execution_count": null,
   "id": "b1ff836d",
   "metadata": {},
   "outputs": [],
   "source": [
    "dpr_data[0]['hard_negative_ctxs']"
   ]
  },
  {
   "cell_type": "code",
   "execution_count": null,
   "id": "7e09ae9c",
   "metadata": {},
   "outputs": [],
   "source": [
    "# saving the data in a file\n",
    "file = open(\"DPR_formated.json\", \"w\")\n",
    "json.dump(dpr_data, file)\n",
    "file.close()"
   ]
  },
  {
   "cell_type": "code",
   "execution_count": null,
   "id": "f671a36e",
   "metadata": {},
   "outputs": [],
   "source": []
  },
  {
   "cell_type": "code",
   "execution_count": null,
   "id": "88c6dbdd",
   "metadata": {},
   "outputs": [],
   "source": []
  }
 ],
 "metadata": {
  "kernelspec": {
   "display_name": "Python 3 (ipykernel)",
   "language": "python",
   "name": "python3"
  },
  "language_info": {
   "codemirror_mode": {
    "name": "ipython",
    "version": 3
   },
   "file_extension": ".py",
   "mimetype": "text/x-python",
   "name": "python",
   "nbconvert_exporter": "python",
   "pygments_lexer": "ipython3",
   "version": "3.7.11"
  }
 },
 "nbformat": 4,
 "nbformat_minor": 5
}
