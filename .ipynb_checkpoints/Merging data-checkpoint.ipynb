{
 "cells": [
  {
   "cell_type": "markdown",
   "id": "40ff70a9",
   "metadata": {},
   "source": [
    "# Load and merge DPR format for sharc and quac"
   ]
  },
  {
   "cell_type": "code",
   "execution_count": 1,
   "id": "ece71899",
   "metadata": {},
   "outputs": [],
   "source": [
    "import json\n",
    "\n",
    "with open('./data/quacdata/train_v0.2.json') as json_file:\n",
    "    data = json.load(json_file)"
   ]
  },
  {
   "cell_type": "code",
   "execution_count": 2,
   "id": "1e003276",
   "metadata": {},
   "outputs": [
    {
     "data": {
      "text/plain": [
       "83568"
      ]
     },
     "execution_count": 2,
     "metadata": {},
     "output_type": "execute_result"
    }
   ],
   "source": [
    "len(data)"
   ]
  },
  {
   "cell_type": "code",
   "execution_count": 3,
   "id": "9aded469",
   "metadata": {},
   "outputs": [],
   "source": [
    "with open('./data/sharc data/sharc1-official/json/sharc_train.json') as json_file:\n",
    "    data_sharc = json.load(json_file)"
   ]
  },
  {
   "cell_type": "code",
   "execution_count": 4,
   "id": "eff0a2a7",
   "metadata": {},
   "outputs": [
    {
     "data": {
      "text/plain": [
       "21890"
      ]
     },
     "execution_count": 4,
     "metadata": {},
     "output_type": "execute_result"
    }
   ],
   "source": [
    "len(data_sharc)"
   ]
  },
  {
   "cell_type": "code",
   "execution_count": 5,
   "id": "abbaca60",
   "metadata": {},
   "outputs": [],
   "source": [
    "# merge\n",
    "data.extend(data_sharc)"
   ]
  },
  {
   "cell_type": "code",
   "execution_count": 6,
   "id": "b9e641f6",
   "metadata": {},
   "outputs": [
    {
     "data": {
      "text/plain": [
       "105458"
      ]
     },
     "execution_count": 6,
     "metadata": {},
     "output_type": "execute_result"
    }
   ],
   "source": [
    "len(data)"
   ]
  },
  {
   "cell_type": "markdown",
   "id": "339b6173",
   "metadata": {},
   "source": [
    "### Sanity check that both are exactly the same :D"
   ]
  },
  {
   "cell_type": "code",
   "execution_count": 7,
   "id": "79573e72",
   "metadata": {},
   "outputs": [
    {
     "data": {
      "text/plain": [
       "dict_keys(['question', 'answers', 'positive_ctxs', 'negative_ctxs', 'hard_negative_ctxs'])"
      ]
     },
     "execution_count": 7,
     "metadata": {},
     "output_type": "execute_result"
    }
   ],
   "source": [
    "data[0].keys()"
   ]
  },
  {
   "cell_type": "code",
   "execution_count": 8,
   "id": "c956b0b3",
   "metadata": {},
   "outputs": [
    {
     "data": {
      "text/plain": [
       "dict_keys(['question', 'answers', 'positive_ctxs', 'negative_ctxs', 'hard_negative_ctxs'])"
      ]
     },
     "execution_count": 8,
     "metadata": {},
     "output_type": "execute_result"
    }
   ],
   "source": [
    "data[85000].keys()"
   ]
  },
  {
   "cell_type": "code",
   "execution_count": 9,
   "id": "b6e2bc8e",
   "metadata": {},
   "outputs": [
    {
     "data": {
      "text/plain": [
       "dict_keys(['title', 'text'])"
      ]
     },
     "execution_count": 9,
     "metadata": {},
     "output_type": "execute_result"
    }
   ],
   "source": [
    "data[0]['positive_ctxs'][0].keys()"
   ]
  },
  {
   "cell_type": "code",
   "execution_count": 10,
   "id": "b0d9e2e2",
   "metadata": {},
   "outputs": [
    {
     "data": {
      "text/plain": [
       "dict_keys(['title', 'text'])"
      ]
     },
     "execution_count": 10,
     "metadata": {},
     "output_type": "execute_result"
    }
   ],
   "source": [
    "data[85000]['positive_ctxs'][0].keys()"
   ]
  },
  {
   "cell_type": "code",
   "execution_count": 11,
   "id": "3caa4c55",
   "metadata": {},
   "outputs": [
    {
     "data": {
      "text/plain": [
       "dict_keys(['title', 'text'])"
      ]
     },
     "execution_count": 11,
     "metadata": {},
     "output_type": "execute_result"
    }
   ],
   "source": [
    "data[0]['hard_negative_ctxs'][0].keys()"
   ]
  },
  {
   "cell_type": "code",
   "execution_count": 12,
   "id": "e3657c8a",
   "metadata": {},
   "outputs": [
    {
     "data": {
      "text/plain": [
       "dict_keys(['title', 'text'])"
      ]
     },
     "execution_count": 12,
     "metadata": {},
     "output_type": "execute_result"
    }
   ],
   "source": [
    "data[85000]['hard_negative_ctxs'][0].keys()"
   ]
  },
  {
   "cell_type": "markdown",
   "id": "c11617c6",
   "metadata": {},
   "source": [
    "# Preprocess text"
   ]
  },
  {
   "cell_type": "code",
   "execution_count": 13,
   "id": "eb32de7a",
   "metadata": {},
   "outputs": [],
   "source": [
    "import re"
   ]
  },
  {
   "cell_type": "code",
   "execution_count": 14,
   "id": "6a7feb19",
   "metadata": {},
   "outputs": [],
   "source": [
    "def clean_text(text):\n",
    "    text = re.sub(\"[^a-zA-Z0-9\\\\s]\", \"\", text)\n",
    "    text = text.strip()\n",
    "    text = \" \".join(text.split())\n",
    "    return text"
   ]
  },
  {
   "cell_type": "code",
   "execution_count": 15,
   "id": "a948d0c2",
   "metadata": {},
   "outputs": [
    {
     "name": "stdout",
     "output_type": "stream",
     "text": [
      "Ahmed Abdallah 75 is a nice collegue\n"
     ]
    }
   ],
   "source": [
    "# test cleaning function\n",
    "text= \"      ###Ahmed ----Abdallah 75 is a nice coll$&^egue   \\n\\n     \"\n",
    "print(clean_text(text))"
   ]
  },
  {
   "cell_type": "code",
   "execution_count": 16,
   "id": "a4096e85",
   "metadata": {},
   "outputs": [],
   "source": [
    "def Preprocess_text(data):\n",
    "    for sample in data:\n",
    "        sample['question']= clean_text(sample['question'])\n",
    "        sample['answers']= [clean_text(answer) for answer in sample['answers']]\n",
    "    \n",
    "        for ctx in sample['positive_ctxs']:\n",
    "            ctx['text']= clean_text(ctx['text'])\n",
    "        \n",
    "        for hctx in sample['hard_negative_ctxs']:\n",
    "            hctx['text']= clean_text(hctx['text'])\n",
    "    return data"
   ]
  },
  {
   "cell_type": "code",
   "execution_count": 17,
   "id": "ec17ac65",
   "metadata": {},
   "outputs": [],
   "source": [
    "data= Preprocess_text(data)"
   ]
  },
  {
   "cell_type": "code",
   "execution_count": 18,
   "id": "35032986",
   "metadata": {},
   "outputs": [
    {
     "data": {
      "text/plain": [
       "{'question': 'When did Nixon visit China',\n",
       " 'answers': ['In February 1972 Nixon and his wife traveled to China'],\n",
       " 'positive_ctxs': [{'title': 'Richard Nixon',\n",
       "   'text': 'Nixon laid the groundwork for his overture to China before he became president writing in Foreign Affairs a year before his election There is no place on this small planet for a billion of its potentially most able people to live in angry isolation Assisting him in this venture was his National Security Advisor and future Secretary of State Henry Kissinger with whom the President worked closely bypassing Cabinet officials With relations between the Soviet Union and China at a nadirborder clashes between the two took place during Nixons first year in officeNixon sent private word to the Chinese that he desired closer relations A breakthrough came in early 1971 when Chairman Mao invited a team of American table tennis players to visit China and play against top Chinese players Nixon followed up by sending Kissinger to China for clandestine meetings with Chinese officials On July 15 1971 it was simultaneously announced by Beijing and by Nixon on television and radio that the President would visit China the following February The announcements astounded the world The secrecy allowed both sets of leaders time to prepare the political climate in their countries for the contact In February 1972 Nixon and his wife traveled to China Kissinger briefed Nixon for over 40 hours in preparation Upon touching down the President and First Lady emerged from Air Force One and greeted Chinese Premier Zhou Enlai Nixon made a point of shaking Zhous hand something which thenSecretary of State John Foster Dulles had refused to do in 1954 when the two met in Geneva Over 100 television journalists accompanied the president On Nixons orders television was strongly favored over printed publications as Nixon felt that the medium would capture the visit much better than print It also gave him the opportunity to snub the print journalists he despised Nixon and Kissinger met for an hour with Mao and Zhou at Maos official private residence where they discussed a range of issues Mao later told his doctor that he had been impressed by Nixon whom he considered forthright unlike the leftists and the Soviets He said he was suspicious of Kissinger though the National Security Advisor referred to their meeting as his encounter with history A formal banquet welcoming the presidential party was given that evening in the Great Hall of the People The following day Nixon met with Zhou the joint communique following this meeting recognized Taiwan as a part of China and looked forward to a peaceful solution to the problem of reunification When not in meetings Nixon toured architectural wonders including the Forbidden City Ming Tombs and the Great Wall Americans received their first glimpse into Chinese life through the cameras which accompanied Pat Nixon who toured the city of Beijing and visited communes schools factories and hospitals The visit ushered in a new era of SinoAmerican relations Fearing the possibility of a SinoAmerican alliance the Soviet Union yielded to pressure for detente with the United States CANNOTANSWER'}],\n",
       " 'negative_ctxs': [],\n",
       " 'hard_negative_ctxs': [{'title': 'Richard Nixon_0',\n",
       "   'text': 'Nixon used the improving international environment to address the topic of nuclear peace Following the announcement of his visit to China the Nixon administration concluded negotiations for him to visit the Soviet Union The President and First Lady arrived in Moscow on May 22 1972 and met with Leonid Brezhnev the General Secretary of the Communist Party Alexei Kosygin the Chairman of the Council of Ministers and Nikolai Podgorny the head of state among other leading Soviet officials Nixon engaged in intense negotiations with Brezhnev Out of the summit came agreements for increased'},\n",
       "  {'title': 'Henry Kissinger_0',\n",
       "   'text': 'Kissinger underwent basic training at Camp Croft in Spartanburg South Carolina On June 19 1943 while stationed in South Carolina at the age of 20 years he became a naturalized US citizen The army sent him to study engineering at Lafayette College Pennsylvania but the program was canceled and Kissinger was reassigned to the 84th Infantry Division There he made the acquaintance of Fritz Kraemer a fellow Jewish immigrant from Germany who noted Kissingers fluency in German and his intellect and arranged for him to be assigned to the military intelligence section of the division K'},\n",
       "  {'title': 'John Connally_0',\n",
       "   'text': 'Connally announced two weeks before Christmas of 1961 that he was leaving the position of Navy secretary to return to Texas to seek the 1962 Democratic gubernatorial nomination He would have to compete against the incumbent Marion Price Daniel Sr who was running for a fourth consecutive twoyear term Daniel was in political trouble following the enactment of a twocent state sales tax in 1961 which had soured many voters on his administration Daniel had let the tax become law without his signature but could have vetoed the measure Former state Attorney General Will Wilson who had run'},\n",
       "  {'title': 'Henry Kissinger_0',\n",
       "   'text': 'Under Kissingers guidance the United States government supported Pakistan in the Bangladesh Liberation War in 1971 Kissinger was particularly concerned about the expansion of Soviet influence in the Indian Subcontinent as a result of a treaty of friendship recently signed by India and the USSR and sought to demonstrate to the Peoples Republic of China Pakistans ally and an enemy of both India and the USSR the value of a tacit alliance with the United States Kissinger sneered at people who bleed for the dying Bengalis and ignored the first telegram from the United States consul ge'},\n",
       "  {'title': 'Anna May Wong_0',\n",
       "   'text': 'After the major disappointment of losing the role in The Good Earth Wong announced plans for a yearlong tour of China to visit her father and his family in Taishan Wongs father had returned to his hometown in China with her younger brothers and sister in 1934 Aside from Mei Lanfangs offer to teach her she wanted to learn more about the Chinese theater and through English translations to better perform some Chinese plays before international audiences She told the San Francisco Chronicle on her departure for a year I shall study the land of my fathers Perhaps upon my arrival I'},\n",
       "  {'title': 'Fred Thompson_0',\n",
       "   'text': 'In 1973 Thompson was appointed minority counsel to assist the Republican senators on the Senate Watergate Committee a special committee convened by the US Senate to investigate the Watergate scandal Thompson was sometimes credited for supplying Republican Senator Howard Bakers famous question What did the President know and when did he know it This question is said to have helped frame the hearings in a way that eventually led to the downfall of President Richard Nixon A Republican staff member Donald Sanders found out about the White House tapes and informed the committee on Ju'},\n",
       "  {'title': 'Mike Gravel_0',\n",
       "   'text': 'In the late 1960s and early 1970s the US Department of Defense was in the process of performing tests for the nuclear warhead for the Spartan antiballistic missile Two tests the Milrow and Cannikin tests were planned involving the detonation of nuclear bombs under Amchitka Island in Alaska The Milrow test would be a one megaton calibration exercise for the second and larger five megaton Cannikin test which would measure the effectiveness of the warhead Gravel opposed the tests in Congress Before the Milrow test took place in October 1969 he wrote that there were significant r'},\n",
       "  {'title': 'Memoirs of a Geisha (film)_0',\n",
       "   'text': 'The film received some hostile responses in Mainland China including its banning by the Peoples Republic of China Relations between Japan and Mainland China were particularly tense due to two main factors Japans Prime Minister Junichiro Koizumi made a number of visits to Yasukuni Shrine which honors all Japans war dead including some who were convicted war criminals which was denounced by Chinas foreign ministry as honoring them and China helped to ensure Japan did not receive a seat on the UN Security Council Writer Hong Ying argued that Art should be above national politics Ne'},\n",
       "  {'title': 'Gerald Ford_0',\n",
       "   'text': 'After returning to Grand Rapids in 1946 Ford became active in local Republican politics and supporters urged him to take on Bartel J Jonkman the incumbent Republican congressman Military service had changed his view of the world I came back a converted internationalist Ford wrote and of course our congressman at that time was an avowed dedicated isolationist And I thought he ought to be replaced Nobody thought I could win I ended up winning two to one During his first campaign in 1948 Ford visited voters at their doorsteps and as they left the factories where they worked Fo'}]}"
      ]
     },
     "execution_count": 18,
     "metadata": {},
     "output_type": "execute_result"
    }
   ],
   "source": [
    "# Inspecting a data sample\n",
    "data[0]"
   ]
  },
  {
   "cell_type": "code",
   "execution_count": 19,
   "id": "ae09d722",
   "metadata": {},
   "outputs": [
    {
     "data": {
      "text/plain": [
       "105458"
      ]
     },
     "execution_count": 19,
     "metadata": {},
     "output_type": "execute_result"
    }
   ],
   "source": [
    "len(data)"
   ]
  },
  {
   "cell_type": "markdown",
   "id": "bc0e9c6b",
   "metadata": {},
   "source": [
    "# saving the Final dataset"
   ]
  },
  {
   "cell_type": "code",
   "execution_count": 27,
   "id": "e2c9042a",
   "metadata": {},
   "outputs": [],
   "source": [
    "file = open(\"DPR_formated_Final.json\", \"w\")\n",
    "json.dump(data, file)\n",
    "file.close()"
   ]
  },
  {
   "cell_type": "code",
   "execution_count": null,
   "id": "76c95dbe",
   "metadata": {},
   "outputs": [],
   "source": []
  }
 ],
 "metadata": {
  "kernelspec": {
   "display_name": "Python 3 (ipykernel)",
   "language": "python",
   "name": "python3"
  },
  "language_info": {
   "codemirror_mode": {
    "name": "ipython",
    "version": 3
   },
   "file_extension": ".py",
   "mimetype": "text/x-python",
   "name": "python",
   "nbconvert_exporter": "python",
   "pygments_lexer": "ipython3",
   "version": "3.7.11"
  }
 },
 "nbformat": 4,
 "nbformat_minor": 5
}
